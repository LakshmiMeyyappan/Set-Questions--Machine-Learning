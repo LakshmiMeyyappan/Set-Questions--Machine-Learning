{
 "cells": [
  {
   "cell_type": "code",
   "execution_count": null,
   "id": "dd6e461b",
   "metadata": {},
   "outputs": [],
   "source": [
    "#1.Identify Customers with High Purchase Frequency\n",
    "import pandas as pd\n",
    "\n",
    "data = {'Customer_ID': [101, 102, 103, 101, 104, 102, 101, 105, 102, 103],\n",
    "        'Purchase_Amount': [200, 150, 180, 220, 300, 200, 100, 400, 250, 300]}\n",
    "\n",
    "df = pd.DataFrame(data)\n",
    "\n",
    "\n",
    "Task:\n",
    "Group customers by Customer_ID and count the number of purchases per customer.\n",
    "\n",
    "Identify the top 3 customers with the highest number of purchases.\n",
    "\n",
    "Expected Output:\n",
    "    Customer Purchase Frequency:\n",
    "   Customer_ID  Purchase_Count\n",
    "0         101               3\n",
    "1         102               3\n",
    "2         103               2\n",
    "3         104               1\n",
    "4         105               1\n",
    "\n",
    "Top 3 Frequent Customers:\n",
    "   Customer_ID  Purchase_Count\n",
    "0         101               3\n",
    "1         102               3\n",
    "2         103               2\n"
   ]
  },
  {
   "cell_type": "markdown",
   "id": "456f289a-fcfd-4813-9133-19735b4c0631",
   "metadata": {},
   "source": [
    "#### ANSWER #1"
   ]
  },
  {
   "cell_type": "code",
   "execution_count": 1,
   "id": "cd0939b0-4eff-4480-bbe4-766767622023",
   "metadata": {},
   "outputs": [
    {
     "name": "stdout",
     "output_type": "stream",
     "text": [
      "Customer Purchase Frequency:\n",
      "   Customer_ID  Purchase_Count\n",
      "0          101               3\n",
      "1          102               3\n",
      "2          103               2\n",
      "3          104               1\n",
      "4          105               1\n",
      "Top 3 Frequent Customers:\n",
      "   Customer_ID  Purchase_Count\n",
      "0          101               3\n",
      "1          102               3\n",
      "2          103               2\n"
     ]
    }
   ],
   "source": [
    "import pandas as pd\n",
    "\n",
    "data = {'Customer_ID': [101, 102, 103, 101, 104, 102, 101, 105, 102, 103],\n",
    "        'Purchase_Amount': [200, 150, 180, 220, 300, 200, 100, 400, 250, 300]}\n",
    "\n",
    "df = pd.DataFrame(data)\n",
    "\n",
    "numof_purchase = df.groupby('Customer_ID')['Purchase_Amount'].count().reset_index(name='Purchase_Count')\n",
    "print(\"Customer Purchase Frequency:\")\n",
    "print(numof_purchase)\n",
    "\n",
    "\n",
    "top_freq_customers = numof_purchase.sort_values(by = 'Purchase_Count', ascending=False).head(3)\n",
    "print(\"Top 3 Frequent Customers:\")\n",
    "print(top_freq_customers)"
   ]
  },
  {
   "cell_type": "code",
   "execution_count": null,
   "id": "95f1ca8c",
   "metadata": {},
   "outputs": [],
   "source": [
    "#2. Find Students with the Highest Average Exam Scores\n",
    "import pandas as pd\n",
    "\n",
    "data = {'Student_ID': [201, 202, 203, 201, 204, 202, 201, 205, 202, 203],\n",
    "        'Exam_Score': [85, 90, 78, 88, 92, 87, 80, 95, 89, 84]}\n",
    "\n",
    "df = pd.DataFrame(data)\n",
    "\n",
    "Task:\n",
    "Calculate the average exam score per student.\n",
    "\n",
    "Display the top 3 students with the highest average scores.\n",
    "\n",
    "Expected Output:\n",
    "\n",
    "Average Exam Scores per Student:\n",
    "   Student_ID  Avg_Score\n",
    "0        201   84.33\n",
    "1        202   88.67\n",
    "2        203   81.00\n",
    "3        204   92.00\n",
    "4        205   95.00\n",
    "\n",
    "Top 3 Students:\n",
    "   Student_ID  Avg_Score\n",
    "0        205   95.00\n",
    "1        204   92.00\n",
    "2        202   88.67"
   ]
  },
  {
   "cell_type": "markdown",
   "id": "af022ebd-7c0e-4d5f-af37-ba2c228b66a4",
   "metadata": {},
   "source": [
    "#### Answer #2"
   ]
  },
  {
   "cell_type": "code",
   "execution_count": 3,
   "id": "06d193f6-7471-46ad-b7de-64c3ac46711c",
   "metadata": {},
   "outputs": [
    {
     "name": "stdout",
     "output_type": "stream",
     "text": [
      "Average Exam Scores per Student:\n",
      "   Student_ID  Avg_Score\n",
      "0         201  84.333333\n",
      "1         202  88.666667\n",
      "2         203  81.000000\n",
      "3         204  92.000000\n",
      "4         205  95.000000\n",
      "Top 3 Students:\n",
      "   Student_ID  Avg_Score\n",
      "4         205  95.000000\n",
      "3         204  92.000000\n",
      "1         202  88.666667\n"
     ]
    }
   ],
   "source": [
    "data = {'Student_ID': [201, 202, 203, 201, 204, 202, 201, 205, 202, 203],\n",
    "        'Exam_Score': [85, 90, 78, 88, 92, 87, 80, 95, 89, 84]}\n",
    "\n",
    "df = pd.DataFrame(data)\n",
    "\n",
    "avg_score = df.groupby('Student_ID')['Exam_Score'].mean().reset_index()\n",
    "avg_score.rename(columns={'Exam_Score': 'Avg_Score'}, inplace=True)\n",
    "\n",
    "print(\"Average Exam Scores per Student:\")\n",
    "print(avg_score)\n",
    "\n",
    "top_students = avg_score.sort_values(by='Avg_Score',ascending=False).head(3)\n",
    "\n",
    "print(\"Top 3 Students:\")\n",
    "print(top_students)"
   ]
  },
  {
   "cell_type": "code",
   "execution_count": null,
   "id": "59d2c212",
   "metadata": {},
   "outputs": [],
   "source": [
    "3. Predict House Prices Using Linear Regression\n",
    "Dataset:\n",
    "\n",
    "import pandas as pd\n",
    "\n",
    "data = {'Size_sqft': [1500, 1800, 2400, 3000, 3500, 4000],\n",
    "        'Price': [300000, 350000, 450000, 550000, 650000, 700000]}\n",
    "\n",
    "df = pd.DataFrame(data)\n",
    "Task:\n",
    "Train a Linear Regression model to predict house prices based on Size_sqft.\n",
    "\n",
    "Predict the price of a house of size 2800 sqft.\n",
    "\n",
    "Expected Output:\n",
    "Predicted Price for 2800 sqft: $516491"
   ]
  },
  {
   "cell_type": "markdown",
   "id": "b7908d31-dab5-4f5f-8f1e-7a7f4b812151",
   "metadata": {},
   "source": [
    "#### ANSWER #3"
   ]
  },
  {
   "cell_type": "code",
   "execution_count": 5,
   "id": "0636bebf-97d6-4cea-bc9e-2909a2b9815d",
   "metadata": {},
   "outputs": [
    {
     "name": "stdout",
     "output_type": "stream",
     "text": [
      "Predicted Price for 2800 sqft: $516491\n"
     ]
    },
    {
     "name": "stderr",
     "output_type": "stream",
     "text": [
      "C:\\Anaconda\\Lib\\site-packages\\sklearn\\base.py:493: UserWarning: X does not have valid feature names, but LinearRegression was fitted with feature names\n",
      "  warnings.warn(\n"
     ]
    }
   ],
   "source": [
    "from sklearn.linear_model import LinearRegression\n",
    "\n",
    "data = {'Size_sqft': [1500, 1800, 2400, 3000, 3500, 4000],\n",
    "        'Price': [300000, 350000, 450000, 550000, 650000, 700000]}\n",
    "\n",
    "df = pd.DataFrame(data)\n",
    "\n",
    "#Split train and test set\n",
    "x_train = df[['Size_sqft']]\n",
    "y_train = df['Price']\n",
    "\n",
    "#model Creation\n",
    "\n",
    "model = LinearRegression()\n",
    "model.fit(x_train,y_train)\n",
    "\n",
    "test_data = [[2800]]\n",
    "prediction = model.predict(test_data)\n",
    "print(f\"Predicted Price for {test_data[0][0]} sqft: ${int(prediction[0])}\")\n"
   ]
  },
  {
   "cell_type": "code",
   "execution_count": null,
   "id": "fe1e60a4",
   "metadata": {},
   "outputs": [],
   "source": [
    "4. Identify the Most Commonly Purchased Products\n",
    "dataset:\n",
    "import pandas as pd\n",
    "\n",
    "data = {'Product_ID': ['P101', 'P102', 'P103', 'P101', 'P104', 'P102', 'P101', 'P105', 'P102', 'P103'],\n",
    "        'Purchase_Count': [5, 3, 4, 2, 1, 6, 7, 3, 2, 5]}\n",
    "\n",
    "df = pd.DataFrame(data)\n",
    "Task:\n",
    "Group products by Product_ID and sum their Purchase_Count.\n",
    "\n",
    "Identify the top 3 most purchased products.\n",
    "\n",
    "Expected Output:\n",
    "\n",
    "Product Purchase Counts:\n",
    "   Product_ID  Total_Purchases\n",
    "0       P101               14\n",
    "1       P102               11\n",
    "2       P103                9\n",
    "3       P104                1\n",
    "4       P105                3\n",
    "\n",
    "Top 3 Purchased Products:\n",
    "   Product_ID  Total_Purchases\n",
    "0       P101               14\n",
    "1       P102               11\n",
    "2       P103                9\n"
   ]
  },
  {
   "cell_type": "markdown",
   "id": "174c923d-7790-4c22-bd6c-c4a20c226214",
   "metadata": {},
   "source": [
    "#### ANSWER #4"
   ]
  },
  {
   "cell_type": "code",
   "execution_count": 7,
   "id": "fbcd9c0c-6c00-4adb-9e4f-cc8bf916a65a",
   "metadata": {},
   "outputs": [
    {
     "name": "stdout",
     "output_type": "stream",
     "text": [
      "Product Purchase Counts:\n",
      "  Product_ID  Total_Purchases\n",
      "0       P101               14\n",
      "1       P102               11\n",
      "2       P103                9\n",
      "3       P104                1\n",
      "4       P105                3\n",
      "Top 3 Purchased Products:\n",
      "  Product_ID  Total_Purchases\n",
      "0       P101               14\n",
      "1       P102               11\n",
      "2       P103                9\n"
     ]
    }
   ],
   "source": [
    "data = {'Product_ID': ['P101', 'P102', 'P103', 'P101', 'P104', 'P102', 'P101', 'P105', 'P102', 'P103'],\n",
    "        'Purchase_Count': [5, 3, 4, 2, 1, 6, 7, 3, 2, 5]}\n",
    "\n",
    "df = pd.DataFrame(data)\n",
    "\n",
    "purchase_count = df.groupby('Product_ID')['Purchase_Count'].sum().reset_index()\n",
    "purchase_count.rename(columns={'Purchase_Count':'Total_Purchases'},inplace=True)\n",
    "\n",
    "print(\"Product Purchase Counts:\")\n",
    "print(purchase_count)\n",
    "\n",
    "top_purchase= purchase_count.sort_values(by='Total_Purchases',ascending=False).head(3)\n",
    "print(\"Top 3 Purchased Products:\")\n",
    "print(top_purchase)\n"
   ]
  },
  {
   "cell_type": "code",
   "execution_count": null,
   "id": "71d4ea54",
   "metadata": {},
   "outputs": [],
   "source": [
    "5. Cluster Customers Based on Their Purchase Amounts\n",
    "Dataset:\n",
    "import pandas as pd\n",
    "\n",
    "data = {'Customer_ID': [1, 2, 3, 4, 5, 6, 7, 8, 9, 10],\n",
    "        'Total_Spend': [500, 1500, 2000, 2500, 3000, 3500, 4000, 1000, 1200, 2700]}\n",
    "\n",
    "df = pd.DataFrame(data)\n",
    "\n",
    "Task:\n",
    "Apply K-Means Clustering to segment customers into 3 clusters.\n",
    "\n",
    "Print the cluster labels for each customer.\n",
    "\n",
    "Expected Output:\n",
    "Customer Clusters:\n",
    "   Customer_ID  Total_Spend  Cluster_Label\n",
    "0            1          500              1\n",
    "1            2         1500              1\n",
    "2            3         2000              2\n",
    "3            4         2500              2\n",
    "4            5         3000              2\n",
    "5            6         3500              0\n",
    "6            7         4000              0\n",
    "7            8         1000              1\n",
    "8            9         1200              1\n",
    "9           10         2700              2"
   ]
  },
  {
   "cell_type": "markdown",
   "id": "47d84172-5d2a-4fd3-9ef7-3abdac00880b",
   "metadata": {},
   "source": [
    "#### ANSWER #5"
   ]
  },
  {
   "cell_type": "code",
   "execution_count": 9,
   "id": "6f5a90c6-1578-4251-9e3f-c41729875758",
   "metadata": {},
   "outputs": [
    {
     "name": "stdout",
     "output_type": "stream",
     "text": [
      "Customer Clusters:\n",
      "   Customer_ID  Total_Spend  Cluster_Label\n",
      "0            1          500              0\n",
      "1            2         1500              0\n",
      "2            3         2000              2\n",
      "3            4         2500              2\n",
      "4            5         3000              2\n",
      "5            6         3500              1\n",
      "6            7         4000              1\n",
      "7            8         1000              0\n",
      "8            9         1200              0\n",
      "9           10         2700              2\n"
     ]
    },
    {
     "name": "stderr",
     "output_type": "stream",
     "text": [
      "C:\\Anaconda\\Lib\\site-packages\\sklearn\\cluster\\_kmeans.py:1429: UserWarning: KMeans is known to have a memory leak on Windows with MKL, when there are less chunks than available threads. You can avoid it by setting the environment variable OMP_NUM_THREADS=1.\n",
      "  warnings.warn(\n"
     ]
    }
   ],
   "source": [
    "from sklearn.cluster import KMeans\n",
    "\n",
    "data = {'Customer_ID': [1, 2, 3, 4, 5, 6, 7, 8, 9, 10],\n",
    "        'Total_Spend': [500, 1500, 2000, 2500, 3000, 3500, 4000, 1000, 1200, 2700]}\n",
    "\n",
    "df = pd.DataFrame(data)\n",
    "\n",
    "kmeans = KMeans(n_clusters=3, random_state=42, n_init=10)\n",
    "df['Cluster_Label'] = kmeans.fit_predict(df[['Total_Spend']])\n",
    "\n",
    "print(\"Customer Clusters:\")\n",
    "print(df)\n"
   ]
  },
  {
   "cell_type": "code",
   "execution_count": null,
   "id": "a4f73179",
   "metadata": {},
   "outputs": [],
   "source": []
  },
  {
   "cell_type": "code",
   "execution_count": null,
   "id": "bf02fcd6",
   "metadata": {},
   "outputs": [],
   "source": []
  }
 ],
 "metadata": {
  "kernelspec": {
   "display_name": "Python [conda env:base] *",
   "language": "python",
   "name": "conda-base-py"
  },
  "language_info": {
   "codemirror_mode": {
    "name": "ipython",
    "version": 3
   },
   "file_extension": ".py",
   "mimetype": "text/x-python",
   "name": "python",
   "nbconvert_exporter": "python",
   "pygments_lexer": "ipython3",
   "version": "3.12.7"
  }
 },
 "nbformat": 4,
 "nbformat_minor": 5
}
