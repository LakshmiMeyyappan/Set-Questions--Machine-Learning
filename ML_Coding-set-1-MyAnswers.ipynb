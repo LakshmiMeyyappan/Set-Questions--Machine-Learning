{
 "cells": [
  {
   "cell_type": "code",
   "execution_count": null,
   "id": "2f07bf40",
   "metadata": {},
   "outputs": [],
   "source": [
    "#1.\n",
    "Question 1:A retail store wants to identify customers who make frequent purchases. Given the dataset below, write a Python program to:\n",
    "Group customers by their IDs.\n",
    "\n",
    "\n",
    "Calculate the total purchase amount per customer.\n",
    "\n",
    "\n",
    "Identify the top 3 customers with the highest purchase amounts.\n",
    "\n",
    "\n",
    "Dataset:\n",
    "data = {'Customer_ID': [101, 102, 103, 101, 104, 102, 101, 105, 102, 103],\n",
    "        'Purchase_Amount': [200, 150, 180, 220, 300, 200, 100, 400, 250, 300]}\n",
    "\n",
    "Expected Output:\n",
    "Total Purchases per Customer:\n",
    "   Customer_ID  Purchase_Amount\n",
    "0          101              520\n",
    "1          102              600\n",
    "2          103              480\n",
    "3          104              300\n",
    "4          105              400\n",
    "\n",
    "Top 3 Frequent Customers:\n",
    "   Customer_ID  Purchase_Amount\n",
    "1          102              600\n",
    "0          101              520\n",
    "2          103              480\n"
   ]
  },
  {
   "cell_type": "markdown",
   "id": "ce2e3970-7430-4c8d-b540-e64b19dc737b",
   "metadata": {},
   "source": [
    "#### ANSWER #1"
   ]
  },
  {
   "cell_type": "code",
   "execution_count": 2,
   "id": "84190794-1647-4d9b-ba3d-203e21504892",
   "metadata": {},
   "outputs": [
    {
     "name": "stdout",
     "output_type": "stream",
     "text": [
      "Total Purchases per Customer:\n",
      "   Customer_ID  Purchase_Amount\n",
      "0          101              520\n",
      "1          102              600\n",
      "2          103              480\n",
      "3          104              300\n",
      "4          105              400\n",
      "Top 3 Frequent Customers:\n",
      "   Customer_ID  Purchase_Amount\n",
      "1          102              600\n",
      "0          101              520\n",
      "2          103              480\n"
     ]
    }
   ],
   "source": [
    "import pandas as pd\n",
    "\n",
    "data = {'Customer_ID': [101, 102, 103, 101, 104, 102, 101, 105, 102, 103],\n",
    "        'Purchase_Amount': [200, 150, 180, 220, 300, 200, 100, 400, 250, 300]}\n",
    "\n",
    "df =pd.DataFrame(data)\n",
    "\n",
    "# Grouping by Customer_ID and calculating total purchases\n",
    "total_purchases = df.groupby('Customer_ID')['Purchase_Amount'].sum().reset_index()\n",
    "\n",
    "#Fetch Top 3 customers\n",
    "top_customers = total_purchases.sort_values(by = 'Purchase_Amount', ascending=False).head(3)\n",
    "\n",
    "print(\"Total Purchases per Customer:\")\n",
    "print(total_purchases)\n",
    "\n",
    "print(\"Top 3 Frequent Customers:\")\n",
    "print(top_customers)"
   ]
  },
  {
   "cell_type": "code",
   "execution_count": null,
   "id": "1b725120",
   "metadata": {},
   "outputs": [],
   "source": [
    "#2. Predicting House Prices with Linear Regression\n",
    "A real estate company wants to predict house prices based on square footage. Write a Python program to:\n",
    "Train a Linear Regression model.\n",
    "\n",
    "\n",
    "Predict house prices for given test data.\n",
    "\n",
    "\n",
    "Dataset:\n",
    "data = {'Square_Feet': [1500, 2000, 2500, 3000, 3500],\n",
    "        'Price': [300000, 400000, 500000, 600000, 700000]}\n",
    "\n",
    "Test Data: [[1800], [2800]]\n",
    "Expected Output:\n",
    "Predicted Prices:\n",
    "[360000. 560000.]\n",
    "\n"
   ]
  },
  {
   "cell_type": "markdown",
   "id": "de3bb433-91bd-4d30-8c60-31778ef25f0c",
   "metadata": {},
   "source": [
    "#### ANSWER #2"
   ]
  },
  {
   "cell_type": "code",
   "execution_count": 5,
   "id": "17e52d0b-1779-4f0d-9d27-a647dd19127a",
   "metadata": {},
   "outputs": [
    {
     "name": "stdout",
     "output_type": "stream",
     "text": [
      "Predicted Prices:\n",
      "[360000. 560000.]\n"
     ]
    },
    {
     "name": "stderr",
     "output_type": "stream",
     "text": [
      "C:\\Anaconda\\Lib\\site-packages\\sklearn\\base.py:493: UserWarning: X does not have valid feature names, but LinearRegression was fitted with feature names\n",
      "  warnings.warn(\n"
     ]
    }
   ],
   "source": [
    "from sklearn.linear_model import LinearRegression\n",
    "\n",
    "data = {'Square_Feet': [1500, 2000, 2500, 3000, 3500],\n",
    "        'Price': [300000, 400000, 500000, 600000, 700000]}\n",
    "df = pd.DataFrame(data)\n",
    "\n",
    "#train test split\n",
    "x_train = df[['Square_Feet']]\n",
    "y_train = df['Price']\n",
    "\n",
    "#create model\n",
    "model =LinearRegression()\n",
    "model.fit(x_train,y_train)\n",
    "\n",
    "# Prediction for test data\n",
    "test_data = [[1800], [2800]]\n",
    "predictions = model.predict(test_data)\n",
    "\n",
    "print(\"Predicted Prices:\")\n",
    "print(predictions)"
   ]
  },
  {
   "cell_type": "code",
   "execution_count": 7,
   "id": "4334c25a-d4cb-4e24-b0a6-2c4be431aa35",
   "metadata": {},
   "outputs": [
    {
     "data": {
      "text/html": [
       "<div>\n",
       "<style scoped>\n",
       "    .dataframe tbody tr th:only-of-type {\n",
       "        vertical-align: middle;\n",
       "    }\n",
       "\n",
       "    .dataframe tbody tr th {\n",
       "        vertical-align: top;\n",
       "    }\n",
       "\n",
       "    .dataframe thead th {\n",
       "        text-align: right;\n",
       "    }\n",
       "</style>\n",
       "<table border=\"1\" class=\"dataframe\">\n",
       "  <thead>\n",
       "    <tr style=\"text-align: right;\">\n",
       "      <th></th>\n",
       "      <th>Square_Feet</th>\n",
       "    </tr>\n",
       "  </thead>\n",
       "  <tbody>\n",
       "    <tr>\n",
       "      <th>0</th>\n",
       "      <td>1500</td>\n",
       "    </tr>\n",
       "    <tr>\n",
       "      <th>1</th>\n",
       "      <td>2000</td>\n",
       "    </tr>\n",
       "    <tr>\n",
       "      <th>2</th>\n",
       "      <td>2500</td>\n",
       "    </tr>\n",
       "    <tr>\n",
       "      <th>3</th>\n",
       "      <td>3000</td>\n",
       "    </tr>\n",
       "    <tr>\n",
       "      <th>4</th>\n",
       "      <td>3500</td>\n",
       "    </tr>\n",
       "  </tbody>\n",
       "</table>\n",
       "</div>"
      ],
      "text/plain": [
       "   Square_Feet\n",
       "0         1500\n",
       "1         2000\n",
       "2         2500\n",
       "3         3000\n",
       "4         3500"
      ]
     },
     "execution_count": 7,
     "metadata": {},
     "output_type": "execute_result"
    }
   ],
   "source": [
    "x_train"
   ]
  },
  {
   "cell_type": "code",
   "execution_count": null,
   "id": "2aae1fb9",
   "metadata": {},
   "outputs": [],
   "source": [
    "#3:\n",
    "Identifying Frequent Labels in a Dataset\n",
    "A company wants to identify the top 3 most common categories in a dataset. Given the dataset below, write a Python program to:\n",
    "Group the data by Category.\n",
    "\n",
    "\n",
    "Count the total occurrences of each category.\n",
    "\n",
    "\n",
    "Identify the top 3 most frequent categories.\n",
    "\n",
    "\n",
    "Dataset:\n",
    "data = {'Category': ['A', 'B', 'C', 'A', 'D', 'B', 'A', 'E', 'B', 'C', 'C', 'A'],\n",
    "        'Value': [10, 15, 20, 30, 25, 18, 22, 40, 35, 50, 45, 15]}\n",
    "\n",
    "Expected Output:\n",
    "\n",
    "Total Occurrences per Category:\n",
    "  Category  Count\n",
    "0        A      4\n",
    "1        B      3\n",
    "2        C      3\n",
    "3        D      1\n",
    "4        E      1\n",
    "\n",
    "Top 3 Frequent Categories:\n",
    "  Category  Count\n",
    "0        A      4\n",
    "1        B      3\n",
    "2        C      3\n"
   ]
  },
  {
   "cell_type": "markdown",
   "id": "440da8d8-caf1-4f0c-870c-06068d91f2c8",
   "metadata": {},
   "source": [
    "#### ANSWER #3"
   ]
  },
  {
   "cell_type": "code",
   "execution_count": 10,
   "id": "387f6deb-7f43-4e5f-86c2-4131accbfb99",
   "metadata": {},
   "outputs": [
    {
     "name": "stdout",
     "output_type": "stream",
     "text": [
      "Total Occurrences per Category:\n",
      "  Category  Count\n",
      "0        A      4\n",
      "1        B      3\n",
      "2        C      3\n",
      "3        D      1\n",
      "4        E      1\n",
      "Top 3 Frequent Categories:\n",
      "  Category  Count\n",
      "0        A      4\n",
      "1        B      3\n",
      "2        C      3\n"
     ]
    }
   ],
   "source": [
    "data = {'Category': ['A', 'B', 'C', 'A', 'D', 'B', 'A', 'E', 'B', 'C', 'C', 'A'],\n",
    "        'Value': [10, 15, 20, 30, 25, 18, 22, 40, 35, 50, 45, 15]}\n",
    "\n",
    "df=pd.DataFrame(data)\n",
    "\n",
    "total_occurance = df.groupby('Category').size().reset_index(name='Count')\n",
    "\n",
    "Top_categories = total_occurance.sort_values(by=\"Count\", ascending=False).head(3)\n",
    "\n",
    "print(\"Total Occurrences per Category:\")\n",
    "print(total_occurance)\n",
    "\n",
    "print(\"Top 3 Frequent Categories:\")\n",
    "print(Top_categories)\n"
   ]
  },
  {
   "cell_type": "code",
   "execution_count": 12,
   "id": "e07ab8c9-ba13-46dc-bca1-60e3df046f19",
   "metadata": {},
   "outputs": [
    {
     "data": {
      "text/html": [
       "<div>\n",
       "<style scoped>\n",
       "    .dataframe tbody tr th:only-of-type {\n",
       "        vertical-align: middle;\n",
       "    }\n",
       "\n",
       "    .dataframe tbody tr th {\n",
       "        vertical-align: top;\n",
       "    }\n",
       "\n",
       "    .dataframe thead th {\n",
       "        text-align: right;\n",
       "    }\n",
       "</style>\n",
       "<table border=\"1\" class=\"dataframe\">\n",
       "  <thead>\n",
       "    <tr style=\"text-align: right;\">\n",
       "      <th></th>\n",
       "      <th>Category</th>\n",
       "      <th>Count</th>\n",
       "    </tr>\n",
       "  </thead>\n",
       "  <tbody>\n",
       "    <tr>\n",
       "      <th>0</th>\n",
       "      <td>A</td>\n",
       "      <td>4</td>\n",
       "    </tr>\n",
       "    <tr>\n",
       "      <th>1</th>\n",
       "      <td>B</td>\n",
       "      <td>3</td>\n",
       "    </tr>\n",
       "    <tr>\n",
       "      <th>2</th>\n",
       "      <td>C</td>\n",
       "      <td>3</td>\n",
       "    </tr>\n",
       "    <tr>\n",
       "      <th>3</th>\n",
       "      <td>D</td>\n",
       "      <td>1</td>\n",
       "    </tr>\n",
       "    <tr>\n",
       "      <th>4</th>\n",
       "      <td>E</td>\n",
       "      <td>1</td>\n",
       "    </tr>\n",
       "  </tbody>\n",
       "</table>\n",
       "</div>"
      ],
      "text/plain": [
       "  Category  Count\n",
       "0        A      4\n",
       "1        B      3\n",
       "2        C      3\n",
       "3        D      1\n",
       "4        E      1"
      ]
     },
     "execution_count": 12,
     "metadata": {},
     "output_type": "execute_result"
    }
   ],
   "source": [
    "total_occurance"
   ]
  },
  {
   "cell_type": "code",
   "execution_count": null,
   "id": "e00c3d13",
   "metadata": {},
   "outputs": [],
   "source": [
    "#4.\n",
    "Predicting Missing Values Using Mean Imputation\n",
    "A dataset contains missing values in the Age column. Write a Python program to:\n",
    "Replace missing values with the mean of the column.\n",
    "\n",
    "\n",
    "Display the updated DataFrame.\n",
    "\n",
    "\n",
    "Dataset:\n",
    "data = {'Name': ['Alice', 'Bob', 'Charlie', 'David', 'Eve'],\n",
    "        'Age': [25, 30, None, 35, None]}\n",
    "\n",
    "Expected Output:\n",
    "\n",
    "Original Data:\n",
    "     Name   Age\n",
    "0  Alice  25.0\n",
    "1    Bob  30.0\n",
    "2 Charlie   NaN\n",
    "3  David  35.0\n",
    "4    Eve   NaN\n",
    "\n",
    "Data after Imputation:\n",
    "     Name   Age\n",
    "0  Alice  25.0\n",
    "1    Bob  30.0\n",
    "2 Charlie  30.0\n",
    "3  David  35.0\n",
    "4    Eve  30.0\n"
   ]
  },
  {
   "cell_type": "markdown",
   "id": "7e5885a9-3cd9-4289-87a9-befafe3611f1",
   "metadata": {},
   "source": [
    "#### ANSWER #4"
   ]
  },
  {
   "cell_type": "code",
   "execution_count": 15,
   "id": "7ada0823-dd7b-47fa-bf4a-0d27e2cb0934",
   "metadata": {},
   "outputs": [
    {
     "name": "stdout",
     "output_type": "stream",
     "text": [
      "Original Data:\n",
      "      Name   Age\n",
      "0    Alice  25.0\n",
      "1      Bob  30.0\n",
      "2  Charlie   NaN\n",
      "3    David  35.0\n",
      "4      Eve   NaN\n",
      "\n",
      " Data after Imputation:\n",
      "      Name   Age\n",
      "0    Alice  25.0\n",
      "1      Bob  30.0\n",
      "2  Charlie  30.0\n",
      "3    David  35.0\n",
      "4      Eve  30.0\n"
     ]
    },
    {
     "name": "stderr",
     "output_type": "stream",
     "text": [
      "C:\\Users\\admin\\AppData\\Local\\Temp\\ipykernel_28432\\3425974675.py:9: FutureWarning: A value is trying to be set on a copy of a DataFrame or Series through chained assignment using an inplace method.\n",
      "The behavior will change in pandas 3.0. This inplace method will never work because the intermediate object on which we are setting values always behaves as a copy.\n",
      "\n",
      "For example, when doing 'df[col].method(value, inplace=True)', try using 'df.method({col: value}, inplace=True)' or df[col] = df[col].method(value) instead, to perform the operation inplace on the original object.\n",
      "\n",
      "\n",
      "  df['Age'].fillna(df['Age'].mean(), inplace=True)\n"
     ]
    }
   ],
   "source": [
    "\n",
    "data = {'Name': ['Alice', 'Bob', 'Charlie', 'David', 'Eve'],\n",
    "        'Age': [25, 30, None, 35, None]}\n",
    "\n",
    "df = pd.DataFrame(data)\n",
    "\n",
    "print(\"Original Data:\")\n",
    "print(df)\n",
    "\n",
    "df['Age'].fillna(df['Age'].mean(), inplace=True)\n",
    "\n",
    "print(\"\\n Data after Imputation:\")\n",
    "print(df)"
   ]
  },
  {
   "cell_type": "code",
   "execution_count": null,
   "id": "46620661",
   "metadata": {},
   "outputs": [],
   "source": [
    "# 5: \n",
    "Implementing a Simple Linear Regression Model\n",
    "You are given a dataset with Experience (years) and Salary ($). Write a Python program to:\n",
    "Train a Linear Regression model.\n",
    "\n",
    "\n",
    "Predict the salary for an individual with 6 years of experience.\n",
    "\n",
    "\n",
    "Dataset:\n",
    "import pandas as pd\n",
    "\n",
    "data = {'Experience': [1, 2, 3, 4, 5], \n",
    "        'Salary': [30000, 35000, 40000, 45000, 50000]}\n",
    "df = pd.DataFrame(data)\n",
    "\n",
    "Expected Output (Example):\n",
    "\n",
    "Predicted Salary for 6 years of experience: $55000\n",
    "\n",
    "\n",
    "\n",
    "#6 :\n",
    "data = {'word_count': [100, 150, 200, 120, 180, 220], \n",
    "        'is_spam': ['ham', 'spam', 'spam', 'ham', 'spam', 'spam']}\n",
    "df = pd.DataFrame(data)\n",
    "\n",
    "Expected Output (Example):\n",
    "Prediction for email with 200 words: Spam\n",
    "\n"
   ]
  },
  {
   "cell_type": "markdown",
   "id": "3a0d9dd4-8a43-4c16-9842-91155608b711",
   "metadata": {},
   "source": [
    "#### ANSWER #5"
   ]
  },
  {
   "cell_type": "code",
   "execution_count": 18,
   "id": "ba7a2313-f8ca-4fff-84d5-2349d2c6c4be",
   "metadata": {},
   "outputs": [
    {
     "name": "stdout",
     "output_type": "stream",
     "text": [
      "Predicted Salary for 6 years of experience: $55000.0\n"
     ]
    },
    {
     "name": "stderr",
     "output_type": "stream",
     "text": [
      "C:\\Anaconda\\Lib\\site-packages\\sklearn\\base.py:493: UserWarning: X does not have valid feature names, but LinearRegression was fitted with feature names\n",
      "  warnings.warn(\n"
     ]
    }
   ],
   "source": [
    "import pandas as pd\n",
    "\n",
    "data = {'Experience': [1, 2, 3, 4, 5], \n",
    "        'Salary': [30000, 35000, 40000, 45000, 50000]}\n",
    "df = pd.DataFrame(data)\n",
    "\n",
    "x_train = df[['Experience']]\n",
    "y_train = df['Salary']\n",
    "\n",
    "model = LinearRegression()\n",
    "model.fit(x_train,y_train)\n",
    "\n",
    "predicted_salary = model.predict([[6]])\n",
    "print(f\"Predicted Salary for 6 years of experience: ${predicted_salary[0]}\")"
   ]
  },
  {
   "cell_type": "markdown",
   "id": "edf5b083-b44d-4179-b2cf-a69107d6c589",
   "metadata": {},
   "source": [
    "#### Answer #6"
   ]
  },
  {
   "cell_type": "code",
   "execution_count": 26,
   "id": "3871ceea-9fcb-4484-939e-5658aae51969",
   "metadata": {},
   "outputs": [
    {
     "name": "stdout",
     "output_type": "stream",
     "text": [
      "Prediction for email with 200 words: spam\n"
     ]
    },
    {
     "name": "stderr",
     "output_type": "stream",
     "text": [
      "C:\\Anaconda\\Lib\\site-packages\\sklearn\\base.py:493: UserWarning: X does not have valid feature names, but LogisticRegression was fitted with feature names\n",
      "  warnings.warn(\n"
     ]
    }
   ],
   "source": [
    "from sklearn.preprocessing import OneHotEncoder\n",
    "from sklearn.linear_model import LogisticRegression\n",
    "\n",
    "#Data collection\n",
    "data = {'word_count': [100, 150, 200, 120, 180, 220], \n",
    "        'is_spam': ['ham', 'spam', 'spam', 'ham', 'spam', 'spam']}\n",
    "df = pd.DataFrame(data)\n",
    "\n",
    "#Data preprocessing\n",
    "encoder = OneHotEncoder()\n",
    "encoded = encoder.fit_transform(df['is_spam'].values.reshape(-1,1))\n",
    "\n",
    "#Test and train data split\n",
    "x_train = df[['word_count']]\n",
    "y_train = df['is_spam']\n",
    "\n",
    "#Model creation\n",
    "model = LogisticRegression()\n",
    "model.fit(x_train,y_train)\n",
    "\n",
    "#prediction\n",
    "test_data = [[200]]\n",
    "prediction = model.predict(test_data)\n",
    "\n",
    "print(f\"Prediction for email with {test_data[0][0]} words: {prediction[0]}\")\n"
   ]
  },
  {
   "cell_type": "code",
   "execution_count": null,
   "id": "c5f162c3-5e40-4bea-8841-3b91ff6554e8",
   "metadata": {},
   "outputs": [],
   "source": []
  }
 ],
 "metadata": {
  "kernelspec": {
   "display_name": "Python [conda env:base] *",
   "language": "python",
   "name": "conda-base-py"
  },
  "language_info": {
   "codemirror_mode": {
    "name": "ipython",
    "version": 3
   },
   "file_extension": ".py",
   "mimetype": "text/x-python",
   "name": "python",
   "nbconvert_exporter": "python",
   "pygments_lexer": "ipython3",
   "version": "3.12.7"
  }
 },
 "nbformat": 4,
 "nbformat_minor": 5
}
